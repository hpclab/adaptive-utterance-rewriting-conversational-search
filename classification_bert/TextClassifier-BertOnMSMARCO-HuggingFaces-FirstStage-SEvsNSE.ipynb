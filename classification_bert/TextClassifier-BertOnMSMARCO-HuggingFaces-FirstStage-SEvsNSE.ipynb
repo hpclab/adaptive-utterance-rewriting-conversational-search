{
 "cells": [
  {
   "cell_type": "code",
   "execution_count": 1,
   "metadata": {},
   "outputs": [],
   "source": [
    "import ktrain\n",
    "from ktrain import text as txt"
   ]
  },
  {
   "cell_type": "markdown",
   "metadata": {},
   "source": [
    "## Reading and preprocessing input"
   ]
  },
  {
   "cell_type": "code",
   "execution_count": 2,
   "metadata": {},
   "outputs": [],
   "source": [
    "train_docs = []\n",
    "train_labels = []\n",
    "for item in open(\"../data/datasets_bert/firststage_se-nse/train.tsv\", 'r'):\n",
    "    item_fields = item.strip().split('\\t')\n",
    "    train_docs.append(item_fields[0].strip())\n",
    "    train_labels.append(item_fields[1].strip())\n",
    "    \n",
    "test_docs = []\n",
    "test_labels = []\n",
    "for item in open(\"../data/datasets_bert/firststage_se-nse/test.tsv\", 'r'):\n",
    "    item_fields = item.strip().split('\\t')\n",
    "    test_docs.append(item_fields[0].strip())\n",
    "    test_labels.append(item_fields[1].strip())"
   ]
  },
  {
   "cell_type": "code",
   "execution_count": null,
   "metadata": {},
   "outputs": [],
   "source": [
    "# using last couple of conversations as validation set\n",
    "\n",
    "valid_docs = train_docs[1502:]\n",
    "valid_labels = train_labels[1502:]\n",
    "\n",
    "train_docs = train_docs[:1502]\n",
    "train_labels = train_labels[:1502]\n",
    "\n",
    "print(len(train_docs))\n",
    "print(len(train_labels))\n",
    "\n",
    "print(train_docs[0])\n",
    "print(train_labels[0])\n",
    "\n",
    "print(len(valid_docs))\n",
    "print(len(valid_labels))\n",
    "\n",
    "print(valid_docs[0])\n",
    "print(valid_labels[0])"
   ]
  },
  {
   "cell_type": "code",
   "execution_count": null,
   "metadata": {},
   "outputs": [],
   "source": [
    "MODEL_NAME = 'nboost/pt-bert-base-uncased-msmarco'\n",
    "t = txt.Transformer(MODEL_NAME, maxlen=500, class_names=['pos', 'neg'])\n",
    "trn = t.preprocess_train(train_docs, train_labels)\n",
    "val = t.preprocess_test(valid_docs, valid_labels)\n",
    "test = t.preprocess_test(test_docs, test_labels)\n",
    "model = t.get_classifier()\n",
    "learner = ktrain.get_learner(model, train_data=trn, val_data=val, batch_size=6)"
   ]
  },
  {
   "cell_type": "markdown",
   "metadata": {},
   "source": [
    "# Find a good learning rate"
   ]
  },
  {
   "cell_type": "code",
   "execution_count": null,
   "metadata": {},
   "outputs": [],
   "source": [
    "# find good learning rate\n",
    "learner.lr_find()             # briefly simulate training to find good learning rate\n",
    "learner.lr_plot()             # visually identify best learning rate"
   ]
  },
  {
   "cell_type": "markdown",
   "metadata": {},
   "source": [
    "# Train the classifier"
   ]
  },
  {
   "cell_type": "code",
   "execution_count": null,
   "metadata": {},
   "outputs": [],
   "source": [
    "# train using 1-cycle learning rate schedule for N epochs\n",
    "learner.fit_onecycle(lr=4e-5, epochs=100, checkpoint_folder=\"pt-bert-base-uncased-msmarco-weights_01\")"
   ]
  },
  {
   "cell_type": "markdown",
   "metadata": {},
   "source": [
    "# Reload weights and predict (confusion matrix)"
   ]
  },
  {
   "cell_type": "code",
   "execution_count": 5,
   "metadata": {},
   "outputs": [
    {
     "name": "stdout",
     "output_type": "stream",
     "text": [
      "              precision    recall  f1-score   support\n",
      "\n",
      "         NSE       0.94      0.92      0.93       126\n",
      "          SE       0.86      0.88      0.87        68\n",
      "\n",
      "    accuracy                           0.91       194\n",
      "   macro avg       0.90      0.90      0.90       194\n",
      "weighted avg       0.91      0.91      0.91       194\n",
      "\n"
     ]
    },
    {
     "data": {
      "text/plain": [
       "array([[116,  10],\n",
       "       [  8,  60]])"
      ]
     },
     "execution_count": 5,
     "metadata": {},
     "output_type": "execute_result"
    }
   ],
   "source": [
    "# model can be downloaded here: http://hpc.isti.cnr.it/~nardini/adaptive-utterance/first_se-vs-nse.hdf5\n",
    "# $ wget http://hpc.isti.cnr.it/~nardini/adaptive-utterance/first_se-vs-nse.hdf5\n",
    "\n",
    "model.load_weights('first_se-vs-nse.hdf5')\n",
    "learner = ktrain.get_learner(model, train_data=trn, val_data=val, batch_size=6)\n",
    "learner.validate(val_data=test, class_names=[\"NSE\", \"SE\"])"
   ]
  }
 ],
 "metadata": {
  "kernelspec": {
   "display_name": "Python 3 (ipykernel)",
   "language": "python",
   "name": "python3"
  },
  "language_info": {
   "codemirror_mode": {
    "name": "ipython",
    "version": 3
   },
   "file_extension": ".py",
   "mimetype": "text/x-python",
   "name": "python",
   "nbconvert_exporter": "python",
   "pygments_lexer": "ipython3",
   "version": "3.8.6"
  },
  "varInspector": {
   "cols": {
    "lenName": 16,
    "lenType": 16,
    "lenVar": 40
   },
   "kernels_config": {
    "python": {
     "delete_cmd_postfix": "",
     "delete_cmd_prefix": "del ",
     "library": "var_list.py",
     "varRefreshCmd": "print(var_dic_list())"
    },
    "r": {
     "delete_cmd_postfix": ") ",
     "delete_cmd_prefix": "rm(",
     "library": "var_list.r",
     "varRefreshCmd": "cat(var_dic_list()) "
    }
   },
   "types_to_exclude": [
    "module",
    "function",
    "builtin_function_or_method",
    "instance",
    "_Feature"
   ],
   "window_display": false
  }
 },
 "nbformat": 4,
 "nbformat_minor": 4
}
