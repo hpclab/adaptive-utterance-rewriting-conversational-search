{
 "cells": [
  {
   "cell_type": "code",
   "execution_count": 17,
   "metadata": {},
   "outputs": [],
   "source": [
    "import ktrain\n",
    "import numpy as np\n",
    "from ktrain import text as txt"
   ]
  },
  {
   "cell_type": "markdown",
   "metadata": {},
   "source": [
    "## Reading and preprocessing input"
   ]
  },
  {
   "cell_type": "code",
   "execution_count": 18,
   "metadata": {},
   "outputs": [],
   "source": [
    "labels = {\"SE\":'1', \"FT\":'1', \"PT\":'0'}\n",
    "\n",
    "train_docs = []\n",
    "train_labels = []\n",
    "for item in open(\"../data/datasets_bert/secondstage_ctx/train.tsv\", 'r'):\n",
    "    item_fields = item.strip().split('\\t')\n",
    "    train_docs.append((item_fields[1].strip(), item_fields[2].strip()))\n",
    "    train_labels.append(labels[item_fields[3].strip()])\n",
    "\n",
    "test_docs = []\n",
    "test_labels = []\n",
    "for item in open(\"../data/datasets_bert/secondstage_ctx/test.tsv\", 'r'):\n",
    "    item_fields = item.strip().split('\\t')\n",
    "    test_docs.append((item_fields[1].strip(), item_fields[2].strip()))\n",
    "    test_labels.append(labels[item_fields[3].strip()])"
   ]
  },
  {
   "cell_type": "code",
   "execution_count": null,
   "metadata": {},
   "outputs": [],
   "source": [
    "# using last couple of conversations as validation set\n",
    "\n",
    "valid_docs = train_docs[1502:]\n",
    "valid_labels = train_labels[1502:]\n",
    "\n",
    "train_docs = train_docs[:1502]\n",
    "train_labels = train_labels[:1502]\n",
    "\n",
    "print(len(train_docs))\n",
    "print(len(train_labels))\n",
    "print(train_docs[0])\n",
    "print(train_labels[0])\n",
    "\n",
    "print(len(valid_docs))\n",
    "print(len(valid_labels))\n",
    "print(valid_docs[0])\n",
    "print(valid_labels[0])"
   ]
  },
  {
   "cell_type": "markdown",
   "metadata": {},
   "source": [
    "## Create a new Transformer from a Hugging Face pretrained one!"
   ]
  },
  {
   "cell_type": "code",
   "execution_count": null,
   "metadata": {},
   "outputs": [],
   "source": [
    "# sentence pair classification\n",
    "MODEL_NAME = 'nboost/pt-bert-base-uncased-msmarco'\n",
    "t = txt.Transformer(MODEL_NAME, maxlen=500, class_names=['FT', 'PT'])\n",
    "trn = t.preprocess_train(train_docs, train_labels)\n",
    "val = t.preprocess_test(valid_docs, valid_labels)\n",
    "test = t.preprocess_test(test_docs, test_labels)\n",
    "model = t.get_classifier()\n",
    "learner = ktrain.get_learner(model, train_data=trn, val_data=val, batch_size=6)"
   ]
  },
  {
   "cell_type": "markdown",
   "metadata": {},
   "source": [
    "## find a good learning rate"
   ]
  },
  {
   "cell_type": "code",
   "execution_count": null,
   "metadata": {},
   "outputs": [],
   "source": [
    "# find good learning rate\n",
    "learner.lr_find()             # briefly simulate training to find good learning rate\n",
    "learner.lr_plot()             # visually identify best learning rate"
   ]
  },
  {
   "cell_type": "markdown",
   "metadata": {},
   "source": [
    "## train the classifier"
   ]
  },
  {
   "cell_type": "code",
   "execution_count": null,
   "metadata": {},
   "outputs": [],
   "source": [
    "# train using 1-cycle learning rate schedule for N epochs\n",
    "learner.fit_onecycle(lr=1e-4, epochs=100, checkpoint_folder=\"pt-bert-base-uncased-msmarco-weights_ctx\")"
   ]
  },
  {
   "cell_type": "markdown",
   "metadata": {},
   "source": [
    "## reload saved weights and predict"
   ]
  },
  {
   "cell_type": "code",
   "execution_count": null,
   "metadata": {},
   "outputs": [],
   "source": [
    "# model can be downloaded here: http://hpc.isti.cnr.it/~nardini/adaptive-utterance/second_ctx_ft-vs-pt.hdf5\n",
    "# $ wget http://hpc.isti.cnr.it/~nardini/adaptive-utterance/second_ctx_ft-vs-pt.hdf5\n",
    "\n",
    "model.load_weights('second_ctx_ft-vs-pt.hdf5')\n",
    "learner = ktrain.get_learner(model, train_data=trn, val_data=val, batch_size=6)\n",
    "learner.validate(val_data=test, class_names=[\"PT\", \"FT\"])"
   ]
  }
 ],
 "metadata": {
  "kernelspec": {
   "display_name": "Python 3 (ipykernel)",
   "language": "python",
   "name": "python3"
  },
  "language_info": {
   "codemirror_mode": {
    "name": "ipython",
    "version": 3
   },
   "file_extension": ".py",
   "mimetype": "text/x-python",
   "name": "python",
   "nbconvert_exporter": "python",
   "pygments_lexer": "ipython3",
   "version": "3.8.6"
  },
  "varInspector": {
   "cols": {
    "lenName": 16,
    "lenType": 16,
    "lenVar": 40
   },
   "kernels_config": {
    "python": {
     "delete_cmd_postfix": "",
     "delete_cmd_prefix": "del ",
     "library": "var_list.py",
     "varRefreshCmd": "print(var_dic_list())"
    },
    "r": {
     "delete_cmd_postfix": ") ",
     "delete_cmd_prefix": "rm(",
     "library": "var_list.r",
     "varRefreshCmd": "cat(var_dic_list()) "
    }
   },
   "types_to_exclude": [
    "module",
    "function",
    "builtin_function_or_method",
    "instance",
    "_Feature"
   ],
   "window_display": false
  }
 },
 "nbformat": 4,
 "nbformat_minor": 4
}
