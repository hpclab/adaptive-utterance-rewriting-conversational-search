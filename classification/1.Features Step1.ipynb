{
 "cells": [
  {
   "cell_type": "code",
   "execution_count": 1,
   "metadata": {},
   "outputs": [],
   "source": [
    "%load_ext autoreload\n",
    "%autoreload 2\n",
    "\n",
    "from time import time\n",
    "import pandas as pd\n",
    "import numpy as np\n",
    "import os\n",
    "import pickle"
   ]
  },
  {
   "cell_type": "markdown",
   "metadata": {},
   "source": [
    "# Load data files"
   ]
  },
  {
   "cell_type": "code",
   "execution_count": 2,
   "metadata": {},
   "outputs": [],
   "source": [
    "#CAST data\n",
    "trainFile = \"../data/datasets/training_set.tsv\"\n",
    "testFile = \"../data/datasets/test_set.tsv\"\n",
    "\n",
    "train_df = pd.read_csv(trainFile, delimiter=\"\\t\", header=None)\n",
    "test_df = pd.read_csv(testFile, delimiter=\"\\t\", header=None)"
   ]
  },
  {
   "cell_type": "code",
   "execution_count": 3,
   "metadata": {},
   "outputs": [],
   "source": [
    "train_feat_df = train_df[[0]].copy()\n",
    "test_feat_df = test_df[[0]].copy()"
   ]
  },
  {
   "cell_type": "code",
   "execution_count": 4,
   "metadata": {},
   "outputs": [],
   "source": [
    "import spacy\n",
    "nlp = spacy.load(\"en_core_web_sm\")\n",
    "\n",
    "# added a column to the nlp linguistic annotation features\n",
    "train_feat_df[\"doc\"] = train_df[1].apply(nlp)\n",
    "test_feat_df[\"doc\"] = test_df[1].apply(nlp)"
   ]
  },
  {
   "cell_type": "code",
   "execution_count": 5,
   "metadata": {},
   "outputs": [
    {
     "data": {
      "text/html": [
       "<div>\n",
       "<style scoped>\n",
       "    .dataframe tbody tr th:only-of-type {\n",
       "        vertical-align: middle;\n",
       "    }\n",
       "\n",
       "    .dataframe tbody tr th {\n",
       "        vertical-align: top;\n",
       "    }\n",
       "\n",
       "    .dataframe thead th {\n",
       "        text-align: right;\n",
       "    }\n",
       "</style>\n",
       "<table border=\"1\" class=\"dataframe\">\n",
       "  <thead>\n",
       "    <tr style=\"text-align: right;\">\n",
       "      <th></th>\n",
       "      <th>0</th>\n",
       "      <th>doc</th>\n",
       "    </tr>\n",
       "  </thead>\n",
       "  <tbody>\n",
       "    <tr>\n",
       "      <th>0</th>\n",
       "      <td>1_1</td>\n",
       "      <td>(What, is, a, physician, 's, assistant, ?)</td>\n",
       "    </tr>\n",
       "    <tr>\n",
       "      <th>1</th>\n",
       "      <td>1_2</td>\n",
       "      <td>(What, are, the, educational, requirements, re...</td>\n",
       "    </tr>\n",
       "    <tr>\n",
       "      <th>2</th>\n",
       "      <td>1_3</td>\n",
       "      <td>(What, does, it, cost, ?)</td>\n",
       "    </tr>\n",
       "    <tr>\n",
       "      <th>3</th>\n",
       "      <td>1_4</td>\n",
       "      <td>(What, 's, the, average, starting, salary, in,...</td>\n",
       "    </tr>\n",
       "    <tr>\n",
       "      <th>4</th>\n",
       "      <td>1_5</td>\n",
       "      <td>(What, about, in, the, US, ?)</td>\n",
       "    </tr>\n",
       "  </tbody>\n",
       "</table>\n",
       "</div>"
      ],
      "text/plain": [
       "     0                                                doc\n",
       "0  1_1         (What, is, a, physician, 's, assistant, ?)\n",
       "1  1_2  (What, are, the, educational, requirements, re...\n",
       "2  1_3                          (What, does, it, cost, ?)\n",
       "3  1_4  (What, 's, the, average, starting, salary, in,...\n",
       "4  1_5                      (What, about, in, the, US, ?)"
      ]
     },
     "execution_count": 5,
     "metadata": {},
     "output_type": "execute_result"
    }
   ],
   "source": [
    "train_feat_df.head()"
   ]
  },
  {
   "cell_type": "code",
   "execution_count": 6,
   "metadata": {},
   "outputs": [
    {
     "data": {
      "text/html": [
       "<div>\n",
       "<style scoped>\n",
       "    .dataframe tbody tr th:only-of-type {\n",
       "        vertical-align: middle;\n",
       "    }\n",
       "\n",
       "    .dataframe tbody tr th {\n",
       "        vertical-align: top;\n",
       "    }\n",
       "\n",
       "    .dataframe thead th {\n",
       "        text-align: right;\n",
       "    }\n",
       "</style>\n",
       "<table border=\"1\" class=\"dataframe\">\n",
       "  <thead>\n",
       "    <tr style=\"text-align: right;\">\n",
       "      <th></th>\n",
       "      <th>0</th>\n",
       "      <th>doc</th>\n",
       "    </tr>\n",
       "  </thead>\n",
       "  <tbody>\n",
       "    <tr>\n",
       "      <th>1559</th>\n",
       "      <td>395_1</td>\n",
       "      <td>(Who, created, The, Orville, ?)</td>\n",
       "    </tr>\n",
       "    <tr>\n",
       "      <th>1560</th>\n",
       "      <td>395_2</td>\n",
       "      <td>(What, network, is, it, on, ?)</td>\n",
       "    </tr>\n",
       "    <tr>\n",
       "      <th>1561</th>\n",
       "      <td>395_3</td>\n",
       "      <td>(What, 's, the, runtime, of, an, episode, ?)</td>\n",
       "    </tr>\n",
       "    <tr>\n",
       "      <th>1562</th>\n",
       "      <td>395_4</td>\n",
       "      <td>(What, was, the, airdate, of, the, first, epis...</td>\n",
       "    </tr>\n",
       "    <tr>\n",
       "      <th>1563</th>\n",
       "      <td>395_5</td>\n",
       "      <td>(What, 's, the, name, of, the, actress, who, i...</td>\n",
       "    </tr>\n",
       "  </tbody>\n",
       "</table>\n",
       "</div>"
      ],
      "text/plain": [
       "          0                                                doc\n",
       "1559  395_1                    (Who, created, The, Orville, ?)\n",
       "1560  395_2                     (What, network, is, it, on, ?)\n",
       "1561  395_3       (What, 's, the, runtime, of, an, episode, ?)\n",
       "1562  395_4  (What, was, the, airdate, of, the, first, epis...\n",
       "1563  395_5  (What, 's, the, name, of, the, actress, who, i..."
      ]
     },
     "execution_count": 6,
     "metadata": {},
     "output_type": "execute_result"
    }
   ],
   "source": [
    "train_feat_df.tail()"
   ]
  },
  {
   "cell_type": "code",
   "execution_count": 7,
   "metadata": {},
   "outputs": [
    {
     "data": {
      "text/html": [
       "<div>\n",
       "<style scoped>\n",
       "    .dataframe tbody tr th:only-of-type {\n",
       "        vertical-align: middle;\n",
       "    }\n",
       "\n",
       "    .dataframe tbody tr th {\n",
       "        vertical-align: top;\n",
       "    }\n",
       "\n",
       "    .dataframe thead th {\n",
       "        text-align: right;\n",
       "    }\n",
       "</style>\n",
       "<table border=\"1\" class=\"dataframe\">\n",
       "  <thead>\n",
       "    <tr style=\"text-align: right;\">\n",
       "      <th></th>\n",
       "      <th>0</th>\n",
       "      <th>doc</th>\n",
       "    </tr>\n",
       "  </thead>\n",
       "  <tbody>\n",
       "    <tr>\n",
       "      <th>0</th>\n",
       "      <td>31_1</td>\n",
       "      <td>(What, is, throat, cancer, ?)</td>\n",
       "    </tr>\n",
       "    <tr>\n",
       "      <th>1</th>\n",
       "      <td>31_2</td>\n",
       "      <td>(Is, it, treatable, ?)</td>\n",
       "    </tr>\n",
       "    <tr>\n",
       "      <th>2</th>\n",
       "      <td>31_3</td>\n",
       "      <td>(Tell, me, about, lung, cancer, .)</td>\n",
       "    </tr>\n",
       "    <tr>\n",
       "      <th>3</th>\n",
       "      <td>31_4</td>\n",
       "      <td>(What, are, its, symptoms, ?)</td>\n",
       "    </tr>\n",
       "    <tr>\n",
       "      <th>4</th>\n",
       "      <td>31_5</td>\n",
       "      <td>(Can, it, spread, to, the, throat, ?)</td>\n",
       "    </tr>\n",
       "  </tbody>\n",
       "</table>\n",
       "</div>"
      ],
      "text/plain": [
       "      0                                    doc\n",
       "0  31_1          (What, is, throat, cancer, ?)\n",
       "1  31_2                 (Is, it, treatable, ?)\n",
       "2  31_3     (Tell, me, about, lung, cancer, .)\n",
       "3  31_4          (What, are, its, symptoms, ?)\n",
       "4  31_5  (Can, it, spread, to, the, throat, ?)"
      ]
     },
     "execution_count": 7,
     "metadata": {},
     "output_type": "execute_result"
    }
   ],
   "source": [
    "test_feat_df.head()"
   ]
  },
  {
   "cell_type": "markdown",
   "metadata": {},
   "source": [
    "# Generate utterance features - STEP 1"
   ]
  },
  {
   "cell_type": "code",
   "execution_count": 8,
   "metadata": {},
   "outputs": [],
   "source": [
    "import tagme\n",
    "# Set the authorization token for subsequent calls.\n",
    "tagme.GCUBE_TOKEN = \"9cea67c1-bc33-40fc-8693-276cd4dfa693-843339462\""
   ]
  },
  {
   "cell_type": "code",
   "execution_count": 10,
   "metadata": {},
   "outputs": [],
   "source": [
    "import sys\n",
    "sys.path.append(\"..\")\n",
    "from classification.utterance_features import *\n",
    "\n",
    "\n",
    "def uttFeatures(df, feature_df):\n",
    "    \n",
    "    #utterance features\n",
    "    feature_df[\"utt_len\"] = df[1].str.len()\n",
    "    feature_df[\"num_tokens\"] = feature_df[\"doc\"].str.len()\n",
    "    feature_df[\"complete_sent\"] = feature_df[\"doc\"].apply(complete_sentence)\n",
    "    feature_df[\"question_mark\"] = feature_df[\"doc\"].apply(question_mark)\n",
    "    \n",
    "    #NER\n",
    "    feature_df['ner'] = feature_df[\"doc\"].apply(ner) # or lambda\n",
    "    feature_df['ner_b'] = feature_df[\"doc\"].apply(ner_binary) \n",
    "    \n",
    "    #NER with TagMe\n",
    "    feature_df['ner_tm_0'] = df[1].apply(ner_tagme) # or lambda\n",
    "    feature_df['ner_tm_1'] = df[1].apply(ner_tagme, threshold=0.1) # or lambda\n",
    "    feature_df['ner_tm_b'] = df[1].apply(ner_tagme_binary) \n",
    "    \n",
    "    #nouns\n",
    "    feature_df['noun'] = feature_df[\"doc\"].apply(noun)\n",
    "    feature_df['noun_b'] = feature_df[\"doc\"].apply(noun_binary)\n",
    "    \n",
    "    #adjectives\n",
    "    feature_df['adj'] = feature_df[\"doc\"].apply(adj)\n",
    "    feature_df['adj_b'] = feature_df[\"doc\"].apply(adj_binary)\n",
    "    \n",
    "    feature_df['adj_comp'] = feature_df[\"doc\"].apply(adj_comp)\n",
    "    feature_df['adj_comp_b'] = feature_df[\"doc\"].apply(adj_comp_binary)\n",
    "    \n",
    "    #adverbs\n",
    "    feature_df['adv'] = feature_df[\"doc\"].apply(adv)\n",
    "    feature_df['adv_b'] = feature_df[\"doc\"].apply(adv_binary)\n",
    "    \n",
    "    feature_df['adv_comp'] = feature_df[\"doc\"].apply(adv_comp)\n",
    "    feature_df['adv_comp_b'] = feature_df[\"doc\"].apply(adv_comp_binary)\n",
    "    \n",
    "\n",
    "    #pronouns\n",
    "    feature_df['pron'] = feature_df[\"doc\"].apply(pron)\n",
    "    feature_df['pron_b'] = feature_df[\"doc\"].apply(pron_binary)\n",
    "    \n",
    "    feature_df['pron_3rd'] = feature_df[\"doc\"].apply(pron_3rd)\n",
    "    feature_df['pron_3rd_b'] = feature_df[\"doc\"].apply(pron_3rd_binary)\n",
    "   \n",
    "    #cue phases, such as \"tell me about\" \"tell me more about\" \"give me\"\n",
    "    feature_df['cue_ph'] = df[1].apply(cue_phrase, phrases_to_check = cue_phrases)\n",
    "    feature_df['cue_ph_b'] = df[1].apply(cue_phrase_binary, phrases_to_check = cue_phrases)\n",
    "    \n",
    "\n",
    "    #cue keywords, such as \"describe\" and example or comparison keywords  \n",
    "    feature_df['cue_kw'] = feature_df[\"doc\"].apply(cue_keyword, kw_to_check = cue_kw)\n",
    "    feature_df['cue_kw_b'] = feature_df[\"doc\"].apply(cue_keyword_binary, kw_to_check = cue_kw)\n",
    "    \n",
    "    feature_df['cue_ex'] = feature_df[\"doc\"].apply(cue_keyword, kw_to_check = example_kw)\n",
    "    feature_df['cue_ex_b'] = feature_df[\"doc\"].apply(cue_keyword_binary, kw_to_check = example_kw)\n",
    "    \n",
    "    feature_df['cue_comp'] = feature_df[\"doc\"].apply(cue_keyword, kw_to_check = comparison_kw)\n",
    "    feature_df['cue_comp_b'] = feature_df[\"doc\"].apply(cue_keyword_binary, kw_to_check = comparison_kw)\n",
    "    \n",
    "    #questions (one word, e.g., \"what\", \"when\")\n",
    "    feature_df['question'] = feature_df[\"doc\"].apply(question, kw_to_check = question_kw)\n",
    "    feature_df['question_b'] = feature_df[\"doc\"].apply(question_binary, kw_to_check = question_kw)\n",
    "    \n",
    "    #questions (more than one word, e.g., \"how many\")\n",
    "    feature_df['question_ph'] = df[1].apply(question_phrase, phrases_to_check = question_phrases)\n",
    "    feature_df['question_ph_b'] = df[1].apply(question_phrase_binary, phrases_to_check = question_phrases)\n",
    "\n",
    "   \n",
    "    #check single question kw\n",
    "    feature_df['what'] = feature_df[\"doc\"].apply(question_binary, kw_to_check = [\"what\"])\n",
    "    feature_df['where'] = feature_df[\"doc\"].apply(question_binary, kw_to_check = [\"where\"])\n",
    "    feature_df['when'] = feature_df[\"doc\"].apply(question_binary, kw_to_check = [\"when\"])\n",
    "    feature_df['who'] = feature_df[\"doc\"].apply(question_binary, kw_to_check = [\"who\"])\n",
    "    feature_df['why'] = feature_df[\"doc\"].apply(question_binary, kw_to_check = [\"why\"])\n",
    "    feature_df['which'] = feature_df[\"doc\"].apply(question_binary, kw_to_check = [\"which\"])\n",
    "    feature_df['how'] = feature_df[\"doc\"].apply(question_binary, kw_to_check = [\"how\"])\n",
    "  \n",
    "    feature_df['how_much'] = df[1].apply(question_phrase_binary, phrases_to_check = [\"how much\"])\n",
    "    feature_df['how_many'] = df[1].apply(question_phrase_binary, phrases_to_check = [\"how many\"])\n",
    "    feature_df['how_long'] = df[1].apply(question_phrase_binary, phrases_to_check = [\"how long\"])\n",
    "     \n",
    "    #new features\n",
    "    feature_df['what_is'] = feature_df[\"doc\"].apply(what_is_question)\n",
    "    feature_df['what_is_2'] = feature_df[\"doc\"].apply(what_is_question_2)\n",
    "    feature_df['what_is_3'] = feature_df[\"doc\"].apply(what_is_question_3)\n",
    "    feature_df['tell_me_question'] = feature_df[\"doc\"].apply(tell_me_question)\n",
    "    feature_df['n_chunks'] = feature_df[\"doc\"].apply(num_noun_chunks)\n",
    "    \n",
    "    #questions (more than one word, e.g., \"how about\", \"what about\")\n",
    "    feature_df['question_ph_2'] = df[1].apply(question_phrase, phrases_to_check = question_phrases_2)\n",
    "    feature_df['question_ph_2_b'] = df[1].apply(question_phrase_binary, phrases_to_check = question_phrases_2)\n",
    "   \n",
    "    #? and it\n",
    "    feature_df['ques_mark_it'] = feature_df[\"doc\"].apply(question_mark_third_person)\n",
    "\n",
    "    return feature_df"
   ]
  },
  {
   "cell_type": "code",
   "execution_count": null,
   "metadata": {},
   "outputs": [],
   "source": [
    "train_features = uttFeatures(train_df, train_feat_df)\n",
    "test_features = uttFeatures(test_df, test_feat_df)"
   ]
  },
  {
   "cell_type": "code",
   "execution_count": null,
   "metadata": {},
   "outputs": [],
   "source": [
    "print_files = False\n",
    "if print_files:\n",
    "    train_features.to_pickle(\"../data/gbdt_features/train_features_step1.pkl\")\n",
    "    test_features.to_pickle(\"../data/gbdt_features/test_features_step1.pkl\")"
   ]
  }
 ],
 "metadata": {
  "kernelspec": {
   "display_name": "Python 3",
   "language": "python",
   "name": "python3"
  },
  "language_info": {
   "codemirror_mode": {
    "name": "ipython",
    "version": 3
   },
   "file_extension": ".py",
   "mimetype": "text/x-python",
   "name": "python",
   "nbconvert_exporter": "python",
   "pygments_lexer": "ipython3",
   "version": "3.7.4"
  }
 },
 "nbformat": 4,
 "nbformat_minor": 2
}
