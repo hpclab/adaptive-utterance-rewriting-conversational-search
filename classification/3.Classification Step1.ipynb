{
 "cells": [
  {
   "cell_type": "code",
   "execution_count": 1,
   "metadata": {},
   "outputs": [],
   "source": [
    "%load_ext autoreload\n",
    "%autoreload 2\n",
    "\n",
    "from time import time\n",
    "import pandas as pd\n",
    "import numpy as np\n",
    "import os\n",
    "import matplotlib.pyplot as plt\n",
    "import pickle"
   ]
  },
  {
   "cell_type": "markdown",
   "metadata": {},
   "source": [
    "# Load data files"
   ]
  },
  {
   "cell_type": "code",
   "execution_count": 2,
   "metadata": {},
   "outputs": [],
   "source": [
    "train_df = pd.read_pickle(\"../data/datasets/train_df.pkl\")\n",
    "test_df = pd.read_pickle(\"../data/datasets/test_df.pkl\")\n",
    "\n",
    "train_features = pd.read_pickle(\"../data/gbdt_features/train_features_step1.pkl\")\n",
    "test_features= pd.read_pickle(\"../data/gbdt_features/test_features_step1.pkl\")"
   ]
  },
  {
   "cell_type": "code",
   "execution_count": 3,
   "metadata": {},
   "outputs": [
    {
     "name": "stdout",
     "output_type": "stream",
     "text": [
      "(1564, 3)\n",
      "(194, 3)\n",
      "(1564, 55)\n",
      "(194, 55)\n"
     ]
    }
   ],
   "source": [
    "print(train_df.shape)\n",
    "print(test_df.shape)\n",
    "print(train_features.shape)\n",
    "print(test_features.shape)"
   ]
  },
  {
   "cell_type": "code",
   "execution_count": 4,
   "metadata": {},
   "outputs": [
    {
     "name": "stdout",
     "output_type": "stream",
     "text": [
      "68\n",
      "69\n",
      "57\n"
     ]
    }
   ],
   "source": [
    "print(len(test_df[test_df[2] == 'SE'])) # number of SE\n",
    "print(len(test_df[test_df[2] == 'FT']))\n",
    "print(len(test_df[test_df[2] == 'PT']))"
   ]
  },
  {
   "cell_type": "code",
   "execution_count": 5,
   "metadata": {},
   "outputs": [
    {
     "name": "stdout",
     "output_type": "stream",
     "text": [
      "how many first utterance in test set? 20\n",
      "(174, 55)\n"
     ]
    }
   ],
   "source": [
    "drop_first_turn_test_lines = test_df.index[test_df[0].str.split(\"_\").str[1].astype(int) == 1].tolist()\n",
    "print(\"how many first utterance in test set?\",len(drop_first_turn_test_lines))\n",
    "\n",
    "test_df_no_first_turn = test_df.drop(drop_first_turn_test_lines)\n",
    "test_features_no_first_turn = test_features.drop(drop_first_turn_test_lines)\n",
    "\n",
    "print(test_features_no_first_turn.shape)"
   ]
  },
  {
   "cell_type": "code",
   "execution_count": 6,
   "metadata": {},
   "outputs": [
    {
     "data": {
      "text/html": [
       "<div>\n",
       "<style scoped>\n",
       "    .dataframe tbody tr th:only-of-type {\n",
       "        vertical-align: middle;\n",
       "    }\n",
       "\n",
       "    .dataframe tbody tr th {\n",
       "        vertical-align: top;\n",
       "    }\n",
       "\n",
       "    .dataframe thead th {\n",
       "        text-align: right;\n",
       "    }\n",
       "</style>\n",
       "<table border=\"1\" class=\"dataframe\">\n",
       "  <thead>\n",
       "    <tr style=\"text-align: right;\">\n",
       "      <th></th>\n",
       "      <th>0</th>\n",
       "      <th>1</th>\n",
       "      <th>2</th>\n",
       "    </tr>\n",
       "  </thead>\n",
       "  <tbody>\n",
       "    <tr>\n",
       "      <th>1</th>\n",
       "      <td>31_2</td>\n",
       "      <td>Is it treatable?</td>\n",
       "      <td>FT</td>\n",
       "    </tr>\n",
       "    <tr>\n",
       "      <th>2</th>\n",
       "      <td>31_3</td>\n",
       "      <td>Tell me about lung cancer.</td>\n",
       "      <td>SE</td>\n",
       "    </tr>\n",
       "    <tr>\n",
       "      <th>3</th>\n",
       "      <td>31_4</td>\n",
       "      <td>What are its symptoms?</td>\n",
       "      <td>PT</td>\n",
       "    </tr>\n",
       "    <tr>\n",
       "      <th>4</th>\n",
       "      <td>31_5</td>\n",
       "      <td>Can it spread to the throat?</td>\n",
       "      <td>PT</td>\n",
       "    </tr>\n",
       "    <tr>\n",
       "      <th>5</th>\n",
       "      <td>31_6</td>\n",
       "      <td>What causes throat cancer?</td>\n",
       "      <td>SE</td>\n",
       "    </tr>\n",
       "  </tbody>\n",
       "</table>\n",
       "</div>"
      ],
      "text/plain": [
       "      0                             1   2\n",
       "1  31_2              Is it treatable?  FT\n",
       "2  31_3    Tell me about lung cancer.  SE\n",
       "3  31_4        What are its symptoms?  PT\n",
       "4  31_5  Can it spread to the throat?  PT\n",
       "5  31_6    What causes throat cancer?  SE"
      ]
     },
     "execution_count": 6,
     "metadata": {},
     "output_type": "execute_result"
    }
   ],
   "source": [
    "test_df_no_first_turn.head(5)"
   ]
  },
  {
   "cell_type": "markdown",
   "metadata": {},
   "source": [
    "# Train classifier"
   ]
  },
  {
   "cell_type": "code",
   "execution_count": 7,
   "metadata": {},
   "outputs": [
    {
     "name": "stdout",
     "output_type": "stream",
     "text": [
      "Features:  Index(['utt_len', 'num_tokens', 'complete_sent', 'question_mark', 'ner',\n",
      "       'ner_b', 'ner_tm_0', 'ner_tm_1', 'ner_tm_b', 'noun', 'noun_b', 'adj',\n",
      "       'adj_b', 'adj_comp', 'adj_comp_b', 'adv', 'adv_b', 'adv_comp',\n",
      "       'adv_comp_b', 'pron', 'pron_b', 'pron_3rd', 'pron_3rd_b', 'cue_ph',\n",
      "       'cue_ph_b', 'cue_kw', 'cue_kw_b', 'cue_ex', 'cue_ex_b', 'cue_comp',\n",
      "       'cue_comp_b', 'question', 'question_b', 'question_ph', 'question_ph_b',\n",
      "       'what', 'where', 'when', 'who', 'why', 'which', 'how', 'how_much',\n",
      "       'how_many', 'how_long', 'what_is', 'what_is_2', 'what_is_3',\n",
      "       'tell_me_question', 'n_chunks', 'question_ph_2', 'question_ph_2_b',\n",
      "       'ques_mark_it'],\n",
      "      dtype='object')\n",
      "TRAIN positive examples 468 SE of total examples 1564\n",
      "TEST positive examples 48 SE + 20 first utt SE of total examples 174 + 20 first utt\n"
     ]
    }
   ],
   "source": [
    "# clean the df\n",
    "cols = train_features.columns[2:]\n",
    "print(\"Features: \",cols)\n",
    "\n",
    "# train\n",
    "X_train_df = train_features[cols]\n",
    "X_train = train_features[cols].to_numpy()\n",
    "\n",
    "train_labels = train_df[2].map({'SE': 1, 'SE ': 1, 'FT ': 0, 'FT': 0, 'PT': 0})\n",
    "y_train_df = train_labels\n",
    "y_train = train_labels.to_numpy()\n",
    "print(\"TRAIN positive examples {} SE of total examples {}\".format(sum(y_train), len(y_train)))\n",
    "\n",
    "\n",
    "# test WITHOUT FIRST TURN\n",
    "X_test_df = test_features_no_first_turn[cols]\n",
    "X_test = test_features_no_first_turn[cols].to_numpy()\n",
    "\n",
    "test_labels = test_df_no_first_turn[2].map({'SE': 1, 'SE ': 1, 'FT ': 0, 'FT': 0, 'PT': 0})\n",
    "y_test_df = test_labels\n",
    "y_test = test_labels.to_numpy()\n",
    "print(\"TEST positive examples {} SE + 20 first utt SE of total examples {} + 20 first utt\".format(sum(y_test), len(y_test)))"
   ]
  },
  {
   "cell_type": "code",
   "execution_count": 8,
   "metadata": {},
   "outputs": [
    {
     "name": "stderr",
     "output_type": "stream",
     "text": [
      "/usr/local/lib/python3.7/site-packages/lightgbm/__init__.py:46: UserWarning: Starting from version 2.2.1, the library file in distribution wheels for macOS is built by the Apple Clang (Xcode_8.3.3) compiler.\n",
      "This means that in case of installing LightGBM from PyPI via the ``pip install lightgbm`` command, you don't need to install the gcc compiler anymore.\n",
      "Instead of that, you need to install the OpenMP library, which is required for running LightGBM on the system with the Apple Clang compiler.\n",
      "You can install the OpenMP library by the following command: ``brew install libomp``.\n",
      "  \"You can install the OpenMP library by the following command: ``brew install libomp``.\", UserWarning)\n"
     ]
    }
   ],
   "source": [
    "import lightgbm as lgb\n",
    "from lightgbm import LGBMClassifier"
   ]
  },
  {
   "cell_type": "code",
   "execution_count": 9,
   "metadata": {},
   "outputs": [],
   "source": [
    "# create dataset for lightgbm\n",
    "lgb_train = lgb.Dataset(X_train_df, y_train_df)\n",
    "lgb_eval = lgb.Dataset(X_test_df, y_test_df, reference=lgb_train)"
   ]
  },
  {
   "cell_type": "code",
   "execution_count": 10,
   "metadata": {},
   "outputs": [
    {
     "name": "stdout",
     "output_type": "stream",
     "text": [
      "Init classifier...\n"
     ]
    }
   ],
   "source": [
    "# specify your configurations as a dict\n",
    "print('Init classifier...')\n",
    "lgb_estimator = lgb.LGBMClassifier(\n",
    "                                   boosting_type = 'gbdt',\n",
    "                                   objective = 'binary' ,\n",
    "                                   learning_rate = 0.01,\n",
    "                                   random_state = 42,\n",
    "                                   num_leaves = 128,\n",
    "                                   n_estimators = 1500,\n",
    "                                   min_child_samples = 10\n",
    "                                   )"
   ]
  },
  {
   "cell_type": "code",
   "execution_count": 11,
   "metadata": {},
   "outputs": [],
   "source": [
    "from sklearn.model_selection import GridSearchCV\n",
    "\n",
    "# Utility function to report best scores\n",
    "def report(results, n_top=3):\n",
    "    for i in range(1, n_top + 1):\n",
    "        candidates = np.flatnonzero(results['rank_test_score'] == i)\n",
    "        for candidate in candidates:\n",
    "            print(\"Model with rank: {0}\".format(i))\n",
    "            print(\"Mean validation score: {0:.3f} (std: {1:.3f})\"\n",
    "                  .format(results['mean_test_score'][candidate],\n",
    "                          results['std_test_score'][candidate]))\n",
    "            print(\"Parameters: {0}\".format(results['params'][candidate]))\n",
    "            print(\"\")\n",
    "\n",
    "            \n",
    "# use a full grid over all parameters\n",
    "param_grid = {\n",
    "              'num_leaves': [64, 128, 256, 512],\n",
    "              'n_estimators': [1000, 1250, 1500],\n",
    "              'min_child_samples': [5, 10]\n",
    "}\n",
    "\n",
    "\n",
    "run_grid_search = False\n",
    "if run_grid_search:\n",
    "    # run grid search\n",
    "    grid_search = GridSearchCV(lgb_estimator, param_grid=param_grid, cv=10)\n",
    "    start = time()\n",
    "    grid_search.fit(X_train, y_train)\n",
    "    \n",
    "    print(\"GridSearchCV took %.2f seconds for %d candidate parameter settings.\"\n",
    "          % (time() - start, len(grid_search.cv_results_['params'])))\n",
    "    report(grid_search.cv_results_)"
   ]
  },
  {
   "cell_type": "code",
   "execution_count": 12,
   "metadata": {},
   "outputs": [
    {
     "name": "stdout",
     "output_type": "stream",
     "text": [
      "Fitting the model...\n"
     ]
    },
    {
     "data": {
      "text/plain": [
       "LGBMClassifier(boosting_type='gbdt', class_weight=None, colsample_bytree=1.0,\n",
       "               importance_type='split', learning_rate=0.01, max_depth=-1,\n",
       "               min_child_samples=10, min_child_weight=0.001, min_split_gain=0.0,\n",
       "               n_estimators=1500, n_jobs=-1, num_leaves=128, objective='binary',\n",
       "               random_state=42, reg_alpha=0.0, reg_lambda=0.0, silent=True,\n",
       "               subsample=1.0, subsample_for_bin=200000, subsample_freq=0)"
      ]
     },
     "execution_count": 12,
     "metadata": {},
     "output_type": "execute_result"
    }
   ],
   "source": [
    "# RUN again the estimator class initialized with settings from Grid Search\n",
    "print('Fitting the model...')\n",
    "lgb_estimator.fit(X_train, y_train)"
   ]
  },
  {
   "cell_type": "code",
   "execution_count": 13,
   "metadata": {},
   "outputs": [],
   "source": [
    "print_model = False\n",
    "\n",
    "if print_model:\n",
    "    print('Saving model...')\n",
    "    # save model to file\n",
    "    lgb_estimator.booster_.save_model('../data/gbdt_models/Step1_lightGBM.txt')"
   ]
  },
  {
   "cell_type": "markdown",
   "metadata": {},
   "source": [
    "# Evaluation"
   ]
  },
  {
   "cell_type": "code",
   "execution_count": 14,
   "metadata": {},
   "outputs": [
    {
     "name": "stdout",
     "output_type": "stream",
     "text": [
      "Starting predicting...\n"
     ]
    }
   ],
   "source": [
    "print('Starting predicting...')\n",
    "y_pred = lgb_estimator.predict(X_test)"
   ]
  },
  {
   "cell_type": "code",
   "execution_count": 15,
   "metadata": {},
   "outputs": [],
   "source": [
    "print_y_pred = False\n",
    "\n",
    "if print_y_pred:\n",
    "    np.save(\"../data/gbdt_models/step_1_y_pred_lightGBM.npy\", y_pred)"
   ]
  },
  {
   "cell_type": "code",
   "execution_count": 16,
   "metadata": {},
   "outputs": [
    {
     "name": "stdout",
     "output_type": "stream",
     "text": [
      "The rmse of prediction is: 0.46732301954611777\n"
     ]
    }
   ],
   "source": [
    "from sklearn.metrics import mean_squared_error\n",
    "print('The rmse of prediction is:', mean_squared_error(y_test, y_pred) ** 0.5)"
   ]
  },
  {
   "cell_type": "code",
   "execution_count": 17,
   "metadata": {},
   "outputs": [
    {
     "name": "stdout",
     "output_type": "stream",
     "text": [
      "Accuracy :  0.7816091954022989\n"
     ]
    }
   ],
   "source": [
    "from sklearn.metrics import accuracy_score\n",
    "print(\"Accuracy : \", accuracy_score(y_test, y_pred, normalize = True))"
   ]
  },
  {
   "cell_type": "markdown",
   "metadata": {},
   "source": [
    "# Complete evaluation\n",
    "We add all the 20 first turn utterances with label 1 at the end for both pred and test in order to have al 194 utterances from the test set."
   ]
  },
  {
   "cell_type": "code",
   "execution_count": 18,
   "metadata": {},
   "outputs": [
    {
     "name": "stdout",
     "output_type": "stream",
     "text": [
      "[0 1 0 0 0 0 0 0 0 1 1 0 0 1 0 0 0 0 0 0 0 0 0 0 0 1 0 0 0 0 0 0 0 0 0 0 0\n",
      " 0 1 1 0 1 0 0 0 0 0 0 1 0 1 1 0 0 0 0 0 1 0 0 0 0 0 0 0 1 0 1 0 1 0 0 0 1\n",
      " 1 0 1 1 0 0 0 0 0 0 0 1 1 0 0 1 0 0 1 1 0 0 0 0 1 0 1 0 0 0 1 1 0 1 0 0 1\n",
      " 0 1 0 0 0 0 0 1 0 1 0 1 0 1 1 0 0 1 0 0 0 0 1 0 0 0 0 0 0 0 0 0 0 0 0 1 0\n",
      " 0 0 1 1 0 0 1 0 1 0 0 0 0 0 1 0 0 0 1 0 1 0 0 0 0 0 1 1 1 1 1 1 1 1 1 1 1\n",
      " 1 1 1 1 1 1 1 1 1]\n",
      "194\n"
     ]
    }
   ],
   "source": [
    "all_y_pred = np.concatenate((y_pred, np.ones(20, dtype=int)))\n",
    "\n",
    "print(all_y_pred)\n",
    "print(len(all_y_pred))"
   ]
  },
  {
   "cell_type": "code",
   "execution_count": 19,
   "metadata": {},
   "outputs": [
    {
     "name": "stdout",
     "output_type": "stream",
     "text": [
      "[0 1 0 0 1 0 0 0 1 1 0 0 1 1 0 0 0 0 0 0 0 0 0 0 0 0 1 0 0 1 0 0 0 0 0 0 0\n",
      " 0 0 1 0 0 1 0 0 0 0 0 1 0 1 1 0 1 0 0 0 1 0 0 0 0 0 0 0 0 0 0 0 1 0 0 0 1\n",
      " 1 1 0 0 0 0 0 0 0 0 0 0 1 0 0 0 0 0 0 1 0 0 0 0 1 0 1 1 0 0 0 0 1 1 0 0 1\n",
      " 0 0 1 0 0 0 0 1 0 0 0 1 1 0 1 0 0 1 0 0 0 0 1 0 0 0 0 0 1 0 0 0 0 0 0 0 0\n",
      " 1 0 0 1 1 0 1 0 1 0 1 1 0 0 1 0 1 0 1 0 1 0 1 0 0 1 1 1 1 1 1 1 1 1 1 1 1\n",
      " 1 1 1 1 1 1 1 1 1]\n",
      "194\n"
     ]
    }
   ],
   "source": [
    "all_y_test = np.concatenate((y_test, np.ones(20, dtype=int)))\n",
    "\n",
    "print(all_y_test)\n",
    "print(len(all_y_test))"
   ]
  },
  {
   "cell_type": "code",
   "execution_count": 20,
   "metadata": {},
   "outputs": [
    {
     "name": "stdout",
     "output_type": "stream",
     "text": [
      "[[108  18]\n",
      " [ 20  48]]\n",
      "              precision    recall  f1-score   support\n",
      "\n",
      "           0       0.84      0.86      0.85       126\n",
      "           1       0.73      0.71      0.72        68\n",
      "\n",
      "    accuracy                           0.80       194\n",
      "   macro avg       0.79      0.78      0.78       194\n",
      "weighted avg       0.80      0.80      0.80       194\n",
      "\n"
     ]
    }
   ],
   "source": [
    "# WITH FIRST TURN\n",
    "from sklearn.metrics import classification_report, confusion_matrix\n",
    "\n",
    "print(confusion_matrix(all_y_test, all_y_pred))\n",
    "print(classification_report(all_y_test, all_y_pred))"
   ]
  },
  {
   "cell_type": "code",
   "execution_count": 21,
   "metadata": {},
   "outputs": [
    {
     "name": "stdout",
     "output_type": "stream",
     "text": [
      "<class 'lightgbm.sklearn.LGBMClassifier'>\n",
      "Missclassification  38 / 174\n",
      "False positives  18\n"
     ]
    }
   ],
   "source": [
    "test_index = list(test_df_no_first_turn.index)\n",
    "\n",
    "res = [(a,b,c) for (a,b,c) in zip(y_test, y_pred, test_index) if  a != b]\n",
    "print(lgb_estimator.__class__)\n",
    "print(\"Missclassification \",len(res), \"/\", len(y_pred))\n",
    "print(\"False positives \", sum([b for _,b,_ in res]))"
   ]
  },
  {
   "cell_type": "code",
   "execution_count": 22,
   "metadata": {},
   "outputs": [
    {
     "name": "stdout",
     "output_type": "stream",
     "text": [
      "Misclassification cases -> go back to utterances\n",
      "y_test, y_pred, test_index (up to 194)\n",
      "(1, 0, 5) 31_6 What causes throat cancer?\n",
      "(1, 0, 10) 32_2 Are sharks endangered?  If so, which species?\n",
      "(0, 1, 12) 32_4 What is the largest ever to have lived on Earth?\n",
      "(1, 0, 14) 32_6 What about for great whites?\n",
      "(0, 1, 28) 33_9 What are the differences between the book and movies?\n",
      "(1, 0, 29) 33_10 Did the horse Artax really die?\n",
      "(1, 0, 33) 34_4 Who were the Sea Peoples?\n",
      "(0, 1, 43) 37_5 What are other similar experiments?\n",
      "(0, 1, 46) 37_8 What were the similarities and differences between the studies?\n",
      "(1, 0, 47) 37_9 What about the BBC experiment?\n",
      "(1, 0, 59) 40_9 How did Britpop change music?\n",
      "(0, 1, 73) 50_3 What are the important classes of satellite?\n",
      "(0, 1, 75) 50_5 What is the Galileo system and why is it important?\n",
      "(1, 0, 84) 54_4 Is the Spy Museum free?\n",
      "(0, 1, 85) 54_5 What is there to do in DC after the museums close?\n",
      "(0, 1, 86) 54_6 What is the best time to visit the reflecting pools?\n",
      "(0, 1, 95) 56_6 What is the impact on modern biology?\n",
      "(0, 1, 100) 58_3 What are the advantages of real-time processing?\n",
      "(0, 1, 103) 58_6 What are important cloud options?\n",
      "(1, 0, 113) 59_8 What are some ways to avoid injury?\n",
      "(0, 1, 117) 61_4 What is the relationship of Spider-Man to the team?\n",
      "(0, 1, 118) 61_5 Why is Batman not a member?\n",
      "(1, 0, 119) 61_6 What is an important team in the DC universe?\n",
      "(0, 1, 126) 67_4 How is oxygen transported?\n",
      "(1, 0, 127) 67_5 What is anemia?\n",
      "(0, 1, 135) 68_2 Tell me about cooking schools and classes.\n",
      "(1, 0, 138) 68_5 What is mortadella and where is it from?\n",
      "(0, 1, 139) 68_6 What’s the difference with Bologna?\n",
      "(1, 0, 156) 75_2 Where are turkeys from?\n",
      "(0, 1, 163) 75_9 How did it become traditional for Christmas dinner in Britain?\n",
      "(1, 0, 166) 77_2 Is chilli a stew?\n",
      "(0, 1, 168) 77_4 What are popular ones in France?\n",
      "(1, 0, 170) 77_6 Tell me about feijoada and its significance.\n",
      "(1, 0, 177) 78_3 What is ketosis?\n",
      "(1, 0, 178) 78_4 What is paleo?\n",
      "(1, 0, 183) 78_9 What is the 16/8 method?\n",
      "(1, 0, 190) 79_6 What is the functionalist theory?\n",
      "(1, 0, 193) 79_9 What are modern examples of conflict theory?\n"
     ]
    }
   ],
   "source": [
    "print(\"Misclassification cases -> go back to utterances\")\n",
    "print(\"y_test, y_pred, test_index (up to 194)\")\n",
    "for item in res:\n",
    "    print(item, test_df_no_first_turn[0].loc[item[2]], test_df_no_first_turn[1].loc[item[2]])"
   ]
  },
  {
   "cell_type": "code",
   "execution_count": 23,
   "metadata": {},
   "outputs": [
    {
     "data": {
      "text/plain": [
       "[(48523, 'utt_len'),\n",
       " (17454, 'num_tokens'),\n",
       " (13837, 'ner_tm_0'),\n",
       " (12082, 'ner_tm_1'),\n",
       " (10144, 'noun'),\n",
       " (8930, 'n_chunks'),\n",
       " (7632, 'complete_sent'),\n",
       " (6989, 'adj_b'),\n",
       " (6188, 'ner'),\n",
       " (4722, 'question_b'),\n",
       " (4694, 'question'),\n",
       " (3800, 'adv'),\n",
       " (2954, 'what_is'),\n",
       " (2877, 'who'),\n",
       " (2402, 'pron'),\n",
       " (2059, 'how'),\n",
       " (1432, 'pron_3rd'),\n",
       " (1282, 'why'),\n",
       " (963, 'question_mark'),\n",
       " (928, 'what_is_3'),\n",
       " (751, 'question_ph_2'),\n",
       " (740, 'which'),\n",
       " (739, 'where'),\n",
       " (635, 'adj_comp'),\n",
       " (590, 'when'),\n",
       " (590, 'what_is_2'),\n",
       " (566, 'cue_comp'),\n",
       " (438, 'cue_kw'),\n",
       " (369, 'ner_b'),\n",
       " (253, 'noun_b'),\n",
       " (204, 'question_ph'),\n",
       " (157, 'adv_comp'),\n",
       " (149, 'how_many'),\n",
       " (145, 'tell_me_question'),\n",
       " (37, 'adv_b'),\n",
       " (30, 'ques_mark_it'),\n",
       " (26, 'cue_ph'),\n",
       " (2, 'pron_3rd_b'),\n",
       " (1, 'pron_b'),\n",
       " (1, 'cue_comp_b'),\n",
       " (0, 'ner_tm_b'),\n",
       " (0, 'adj'),\n",
       " (0, 'adj_comp_b'),\n",
       " (0, 'adv_comp_b'),\n",
       " (0, 'cue_ph_b'),\n",
       " (0, 'cue_kw_b'),\n",
       " (0, 'cue_ex'),\n",
       " (0, 'cue_ex_b'),\n",
       " (0, 'question_ph_b'),\n",
       " (0, 'what'),\n",
       " (0, 'how_much'),\n",
       " (0, 'how_long'),\n",
       " (0, 'question_ph_2_b')]"
      ]
     },
     "execution_count": 23,
     "metadata": {},
     "output_type": "execute_result"
    }
   ],
   "source": [
    "from operator import itemgetter\n",
    "feat_importance = [(a,b) for a, b in zip(lgb_estimator.feature_importances_, cols)]\n",
    "feat_importance.sort(key=itemgetter(0),reverse=True)\n",
    "feat_importance"
   ]
  },
  {
   "cell_type": "markdown",
   "metadata": {},
   "source": [
    "# Classification results for cascade "
   ]
  },
  {
   "cell_type": "code",
   "execution_count": 25,
   "metadata": {},
   "outputs": [
    {
     "data": {
      "text/plain": [
       "array(['31_2', '31_3', '31_4', '31_5', '31_6', '31_7', '31_8', '31_9',\n",
       "       '32_2', '32_3', '32_4', '32_5', '32_6', '32_7', '32_8', '32_9',\n",
       "       '32_10', '32_11', '33_2', '33_3', '33_4', '33_5', '33_6', '33_7',\n",
       "       '33_8', '33_9', '33_10', '34_2', '34_3', '34_4', '34_5', '34_6',\n",
       "       '34_7', '34_8', '34_9', '37_2', '37_3', '37_4', '37_5', '37_6',\n",
       "       '37_7', '37_8', '37_9', '37_10', '37_11', '37_12', '40_2', '40_3',\n",
       "       '40_4', '40_5', '40_6', '40_7', '40_8', '40_9', '40_10', '49_2',\n",
       "       '49_3', '49_4', '49_5', '49_6', '49_7', '49_8', '49_9', '49_10',\n",
       "       '50_2', '50_3', '50_4', '50_5', '50_6', '50_7', '50_8', '50_9',\n",
       "       '50_10', '54_2', '54_3', '54_4', '54_5', '54_6', '54_7', '54_8',\n",
       "       '54_9', '56_2', '56_3', '56_4', '56_5', '56_6', '56_7', '56_8',\n",
       "       '58_2', '58_3', '58_4', '58_5', '58_6', '58_7', '58_8', '59_2',\n",
       "       '59_3', '59_4', '59_5', '59_6', '59_7', '59_8', '61_2', '61_3',\n",
       "       '61_4', '61_5', '61_6', '61_7', '61_8', '61_9', '67_2', '67_3',\n",
       "       '67_4', '67_5', '67_6', '67_7', '67_8', '67_9', '67_10', '67_11',\n",
       "       '68_2', '68_3', '68_4', '68_5', '68_6', '68_7', '68_8', '68_9',\n",
       "       '68_10', '68_11', '69_2', '69_3', '69_4', '69_5', '69_6', '69_7',\n",
       "       '69_8', '69_9', '69_10', '75_2', '75_3', '75_4', '75_5', '75_6',\n",
       "       '75_7', '75_8', '75_9', '75_10', '77_2', '77_3', '77_4', '77_5',\n",
       "       '77_6', '77_7', '77_8', '77_9', '77_10', '78_2', '78_3', '78_4',\n",
       "       '78_5', '78_6', '78_7', '78_8', '78_9', '78_10', '79_2', '79_3',\n",
       "       '79_4', '79_5', '79_6', '79_7', '79_8', '79_9'], dtype=object)"
      ]
     },
     "execution_count": 25,
     "metadata": {},
     "output_type": "execute_result"
    }
   ],
   "source": [
    "# take all qids which are not SE\n",
    "qids = test_df_no_first_turn[0].to_numpy()\n",
    "qids"
   ]
  },
  {
   "cell_type": "code",
   "execution_count": 26,
   "metadata": {},
   "outputs": [
    {
     "name": "stdout",
     "output_type": "stream",
     "text": [
      "46\n",
      "[(2, '31_3', 1), (11, '32_3', 1), (12, '32_4', 1), (15, '32_7', 1), (28, '33_9', 1), (43, '37_5', 1), (44, '37_6', 1), (46, '37_8', 1), (54, '40_4', 1), (56, '40_6', 1), (57, '40_7', 1), (64, '49_4', 1), (73, '50_3', 1), (75, '50_5', 1), (77, '50_7', 1), (82, '54_2', 1), (83, '54_3', 1), (85, '54_5', 1), (86, '54_6', 1), (95, '56_6', 1), (96, '56_7', 1), (100, '58_3', 1), (103, '58_6', 1), (104, '58_7', 1), (110, '59_5', 1), (112, '59_7', 1), (117, '61_4', 1), (118, '61_5', 1), (120, '61_7', 1), (124, '67_2', 1), (126, '67_4', 1), (132, '67_10', 1), (135, '68_2', 1), (137, '68_4', 1), (139, '68_6', 1), (140, '68_7', 1), (143, '68_10', 1), (149, '69_5', 1), (163, '75_9', 1), (168, '77_4', 1), (169, '77_5', 1), (172, '77_8', 1), (174, '77_10', 1), (181, '78_7', 1), (186, '79_2', 1), (188, '79_4', 1)]\n",
      "128\n",
      "[(1, '31_2', 0), (3, '31_4', 0), (4, '31_5', 0), (5, '31_6', 0), (6, '31_7', 0), (7, '31_8', 0), (8, '31_9', 0), (10, '32_2', 0), (13, '32_5', 0), (14, '32_6', 0), (16, '32_8', 0), (17, '32_9', 0), (18, '32_10', 0), (19, '32_11', 0), (21, '33_2', 0), (22, '33_3', 0), (23, '33_4', 0), (24, '33_5', 0), (25, '33_6', 0), (26, '33_7', 0), (27, '33_8', 0), (29, '33_10', 0), (31, '34_2', 0), (32, '34_3', 0), (33, '34_4', 0), (34, '34_5', 0), (35, '34_6', 0), (36, '34_7', 0), (37, '34_8', 0), (38, '34_9', 0), (40, '37_2', 0), (41, '37_3', 0), (42, '37_4', 0), (45, '37_7', 0), (47, '37_9', 0), (48, '37_10', 0), (49, '37_11', 0), (50, '37_12', 0), (52, '40_2', 0), (53, '40_3', 0), (55, '40_5', 0), (58, '40_8', 0), (59, '40_9', 0), (60, '40_10', 0), (62, '49_2', 0), (63, '49_3', 0), (65, '49_5', 0), (66, '49_6', 0), (67, '49_7', 0), (68, '49_8', 0), (69, '49_9', 0), (70, '49_10', 0), (72, '50_2', 0), (74, '50_4', 0), (76, '50_6', 0), (78, '50_8', 0), (79, '50_9', 0), (80, '50_10', 0), (84, '54_4', 0), (87, '54_7', 0), (88, '54_8', 0), (89, '54_9', 0), (91, '56_2', 0), (92, '56_3', 0), (93, '56_4', 0), (94, '56_5', 0), (97, '56_8', 0), (99, '58_2', 0), (101, '58_4', 0), (102, '58_5', 0), (105, '58_8', 0), (107, '59_2', 0), (108, '59_3', 0), (109, '59_4', 0), (111, '59_6', 0), (113, '59_8', 0), (115, '61_2', 0), (116, '61_3', 0), (119, '61_6', 0), (121, '61_8', 0), (122, '61_9', 0), (125, '67_3', 0), (127, '67_5', 0), (128, '67_6', 0), (129, '67_7', 0), (130, '67_8', 0), (131, '67_9', 0), (133, '67_11', 0), (136, '68_3', 0), (138, '68_5', 0), (141, '68_8', 0), (142, '68_9', 0), (144, '68_11', 0), (146, '69_2', 0), (147, '69_3', 0), (148, '69_4', 0), (150, '69_6', 0), (151, '69_7', 0), (152, '69_8', 0), (153, '69_9', 0), (154, '69_10', 0), (156, '75_2', 0), (157, '75_3', 0), (158, '75_4', 0), (159, '75_5', 0), (160, '75_6', 0), (161, '75_7', 0), (162, '75_8', 0), (164, '75_10', 0), (166, '77_2', 0), (167, '77_3', 0), (170, '77_6', 0), (171, '77_7', 0), (173, '77_9', 0), (176, '78_2', 0), (177, '78_3', 0), (178, '78_4', 0), (179, '78_5', 0), (180, '78_6', 0), (182, '78_8', 0), (183, '78_9', 0), (184, '78_10', 0), (187, '79_3', 0), (189, '79_5', 0), (190, '79_6', 0), (191, '79_7', 0), (192, '79_8', 0), (193, '79_9', 0)]\n",
      "['31_3', '32_3', '32_4', '32_7', '33_9', '37_5', '37_6', '37_8', '40_4', '40_6', '40_7', '49_4', '50_3', '50_5', '50_7', '54_2', '54_3', '54_5', '54_6', '56_6', '56_7', '58_3', '58_6', '58_7', '59_5', '59_7', '61_4', '61_5', '61_7', '67_2', '67_4', '67_10', '68_2', '68_4', '68_6', '68_7', '68_10', '69_5', '75_9', '77_4', '77_5', '77_8', '77_10', '78_7', '79_2', '79_4']\n"
     ]
    }
   ],
   "source": [
    "test_results_SE = [(i,a,b) for  i,a,b in zip(test_index, qids, y_pred) if  b==1]\n",
    "print(len(test_results_SE))\n",
    "print(test_results_SE)\n",
    "test_results_nonSE = [(i,a,b) for i,a,b in zip(test_index, qids, y_pred) if  b==0]\n",
    "print(len(test_results_nonSE)) \n",
    "print(test_results_nonSE)\n",
    "      \n",
    "assert len(test_results_SE)+len(test_results_nonSE)==174 # 174 test qid + 20 first utterance SE\n",
    "\n",
    "queries_class_SE = [a for i,a,b in test_results_SE]\n",
    "print(queries_class_SE)"
   ]
  },
  {
   "cell_type": "markdown",
   "metadata": {},
   "source": [
    "## Write on a file the results of step 1 for INDRI"
   ]
  },
  {
   "cell_type": "code",
   "execution_count": 28,
   "metadata": {},
   "outputs": [
    {
     "data": {
      "text/plain": [
       "[(1, '31_2', 0),\n",
       " (2, '31_3', 1),\n",
       " (3, '31_4', 0),\n",
       " (4, '31_5', 0),\n",
       " (5, '31_6', 0),\n",
       " (6, '31_7', 0),\n",
       " (7, '31_8', 0),\n",
       " (8, '31_9', 0),\n",
       " (10, '32_2', 0),\n",
       " (11, '32_3', 1),\n",
       " (12, '32_4', 1),\n",
       " (13, '32_5', 0),\n",
       " (14, '32_6', 0),\n",
       " (15, '32_7', 1),\n",
       " (16, '32_8', 0),\n",
       " (17, '32_9', 0),\n",
       " (18, '32_10', 0),\n",
       " (19, '32_11', 0),\n",
       " (21, '33_2', 0),\n",
       " (22, '33_3', 0),\n",
       " (23, '33_4', 0),\n",
       " (24, '33_5', 0),\n",
       " (25, '33_6', 0),\n",
       " (26, '33_7', 0),\n",
       " (27, '33_8', 0),\n",
       " (28, '33_9', 1),\n",
       " (29, '33_10', 0),\n",
       " (31, '34_2', 0),\n",
       " (32, '34_3', 0),\n",
       " (33, '34_4', 0),\n",
       " (34, '34_5', 0),\n",
       " (35, '34_6', 0),\n",
       " (36, '34_7', 0),\n",
       " (37, '34_8', 0),\n",
       " (38, '34_9', 0),\n",
       " (40, '37_2', 0),\n",
       " (41, '37_3', 0),\n",
       " (42, '37_4', 0),\n",
       " (43, '37_5', 1),\n",
       " (44, '37_6', 1),\n",
       " (45, '37_7', 0),\n",
       " (46, '37_8', 1),\n",
       " (47, '37_9', 0),\n",
       " (48, '37_10', 0),\n",
       " (49, '37_11', 0),\n",
       " (50, '37_12', 0),\n",
       " (52, '40_2', 0),\n",
       " (53, '40_3', 0),\n",
       " (54, '40_4', 1),\n",
       " (55, '40_5', 0),\n",
       " (56, '40_6', 1),\n",
       " (57, '40_7', 1),\n",
       " (58, '40_8', 0),\n",
       " (59, '40_9', 0),\n",
       " (60, '40_10', 0),\n",
       " (62, '49_2', 0),\n",
       " (63, '49_3', 0),\n",
       " (64, '49_4', 1),\n",
       " (65, '49_5', 0),\n",
       " (66, '49_6', 0),\n",
       " (67, '49_7', 0),\n",
       " (68, '49_8', 0),\n",
       " (69, '49_9', 0),\n",
       " (70, '49_10', 0),\n",
       " (72, '50_2', 0),\n",
       " (73, '50_3', 1),\n",
       " (74, '50_4', 0),\n",
       " (75, '50_5', 1),\n",
       " (76, '50_6', 0),\n",
       " (77, '50_7', 1),\n",
       " (78, '50_8', 0),\n",
       " (79, '50_9', 0),\n",
       " (80, '50_10', 0),\n",
       " (82, '54_2', 1),\n",
       " (83, '54_3', 1),\n",
       " (84, '54_4', 0),\n",
       " (85, '54_5', 1),\n",
       " (86, '54_6', 1),\n",
       " (87, '54_7', 0),\n",
       " (88, '54_8', 0),\n",
       " (89, '54_9', 0),\n",
       " (91, '56_2', 0),\n",
       " (92, '56_3', 0),\n",
       " (93, '56_4', 0),\n",
       " (94, '56_5', 0),\n",
       " (95, '56_6', 1),\n",
       " (96, '56_7', 1),\n",
       " (97, '56_8', 0),\n",
       " (99, '58_2', 0),\n",
       " (100, '58_3', 1),\n",
       " (101, '58_4', 0),\n",
       " (102, '58_5', 0),\n",
       " (103, '58_6', 1),\n",
       " (104, '58_7', 1),\n",
       " (105, '58_8', 0),\n",
       " (107, '59_2', 0),\n",
       " (108, '59_3', 0),\n",
       " (109, '59_4', 0),\n",
       " (110, '59_5', 1),\n",
       " (111, '59_6', 0),\n",
       " (112, '59_7', 1),\n",
       " (113, '59_8', 0),\n",
       " (115, '61_2', 0),\n",
       " (116, '61_3', 0),\n",
       " (117, '61_4', 1),\n",
       " (118, '61_5', 1),\n",
       " (119, '61_6', 0),\n",
       " (120, '61_7', 1),\n",
       " (121, '61_8', 0),\n",
       " (122, '61_9', 0),\n",
       " (124, '67_2', 1),\n",
       " (125, '67_3', 0),\n",
       " (126, '67_4', 1),\n",
       " (127, '67_5', 0),\n",
       " (128, '67_6', 0),\n",
       " (129, '67_7', 0),\n",
       " (130, '67_8', 0),\n",
       " (131, '67_9', 0),\n",
       " (132, '67_10', 1),\n",
       " (133, '67_11', 0),\n",
       " (135, '68_2', 1),\n",
       " (136, '68_3', 0),\n",
       " (137, '68_4', 1),\n",
       " (138, '68_5', 0),\n",
       " (139, '68_6', 1),\n",
       " (140, '68_7', 1),\n",
       " (141, '68_8', 0),\n",
       " (142, '68_9', 0),\n",
       " (143, '68_10', 1),\n",
       " (144, '68_11', 0),\n",
       " (146, '69_2', 0),\n",
       " (147, '69_3', 0),\n",
       " (148, '69_4', 0),\n",
       " (149, '69_5', 1),\n",
       " (150, '69_6', 0),\n",
       " (151, '69_7', 0),\n",
       " (152, '69_8', 0),\n",
       " (153, '69_9', 0),\n",
       " (154, '69_10', 0),\n",
       " (156, '75_2', 0),\n",
       " (157, '75_3', 0),\n",
       " (158, '75_4', 0),\n",
       " (159, '75_5', 0),\n",
       " (160, '75_6', 0),\n",
       " (161, '75_7', 0),\n",
       " (162, '75_8', 0),\n",
       " (163, '75_9', 1),\n",
       " (164, '75_10', 0),\n",
       " (166, '77_2', 0),\n",
       " (167, '77_3', 0),\n",
       " (168, '77_4', 1),\n",
       " (169, '77_5', 1),\n",
       " (170, '77_6', 0),\n",
       " (171, '77_7', 0),\n",
       " (172, '77_8', 1),\n",
       " (173, '77_9', 0),\n",
       " (174, '77_10', 1),\n",
       " (176, '78_2', 0),\n",
       " (177, '78_3', 0),\n",
       " (178, '78_4', 0),\n",
       " (179, '78_5', 0),\n",
       " (180, '78_6', 0),\n",
       " (181, '78_7', 1),\n",
       " (182, '78_8', 0),\n",
       " (183, '78_9', 0),\n",
       " (184, '78_10', 0),\n",
       " (186, '79_2', 1),\n",
       " (187, '79_3', 0),\n",
       " (188, '79_4', 1),\n",
       " (189, '79_5', 0),\n",
       " (190, '79_6', 0),\n",
       " (191, '79_7', 0),\n",
       " (192, '79_8', 0),\n",
       " (193, '79_9', 0)]"
      ]
     },
     "execution_count": 28,
     "metadata": {},
     "output_type": "execute_result"
    }
   ],
   "source": [
    "test_results_step1 = [(i,a,b) for  i,a,b in zip(test_index, qids, y_pred)]\n",
    "test_results_step1"
   ]
  },
  {
   "cell_type": "code",
   "execution_count": 30,
   "metadata": {},
   "outputs": [
    {
     "name": "stdout",
     "output_type": "stream",
     "text": [
      "31_1\tSE\n",
      "31_2\tnoSE\n",
      "31_3\tSE\n",
      "31_4\tnoSE\n",
      "31_5\tnoSE\n",
      "31_6\tnoSE\n",
      "31_7\tnoSE\n",
      "31_8\tnoSE\n",
      "31_9\tnoSE\n",
      "32_1\tSE\n",
      "32_2\tnoSE\n",
      "32_3\tSE\n",
      "32_4\tSE\n",
      "32_5\tnoSE\n",
      "32_6\tnoSE\n",
      "32_7\tSE\n",
      "32_8\tnoSE\n",
      "32_9\tnoSE\n",
      "32_10\tnoSE\n",
      "32_11\tnoSE\n",
      "33_1\tSE\n",
      "33_2\tnoSE\n",
      "33_3\tnoSE\n",
      "33_4\tnoSE\n",
      "33_5\tnoSE\n",
      "33_6\tnoSE\n",
      "33_7\tnoSE\n",
      "33_8\tnoSE\n",
      "33_9\tSE\n",
      "33_10\tnoSE\n",
      "34_1\tSE\n",
      "34_2\tnoSE\n",
      "34_3\tnoSE\n",
      "34_4\tnoSE\n",
      "34_5\tnoSE\n",
      "34_6\tnoSE\n",
      "34_7\tnoSE\n",
      "34_8\tnoSE\n",
      "34_9\tnoSE\n",
      "37_1\tSE\n",
      "37_2\tnoSE\n",
      "37_3\tnoSE\n",
      "37_4\tnoSE\n",
      "37_5\tSE\n",
      "37_6\tSE\n",
      "37_7\tnoSE\n",
      "37_8\tSE\n",
      "37_9\tnoSE\n",
      "37_10\tnoSE\n",
      "37_11\tnoSE\n",
      "37_12\tnoSE\n",
      "40_1\tSE\n",
      "40_2\tnoSE\n",
      "40_3\tnoSE\n",
      "40_4\tSE\n",
      "40_5\tnoSE\n",
      "40_6\tSE\n",
      "40_7\tSE\n",
      "40_8\tnoSE\n",
      "40_9\tnoSE\n",
      "40_10\tnoSE\n",
      "49_1\tSE\n",
      "49_2\tnoSE\n",
      "49_3\tnoSE\n",
      "49_4\tSE\n",
      "49_5\tnoSE\n",
      "49_6\tnoSE\n",
      "49_7\tnoSE\n",
      "49_8\tnoSE\n",
      "49_9\tnoSE\n",
      "49_10\tnoSE\n",
      "50_1\tSE\n",
      "50_2\tnoSE\n",
      "50_3\tSE\n",
      "50_4\tnoSE\n",
      "50_5\tSE\n",
      "50_6\tnoSE\n",
      "50_7\tSE\n",
      "50_8\tnoSE\n",
      "50_9\tnoSE\n",
      "50_10\tnoSE\n",
      "54_1\tSE\n",
      "54_2\tSE\n",
      "54_3\tSE\n",
      "54_4\tnoSE\n",
      "54_5\tSE\n",
      "54_6\tSE\n",
      "54_7\tnoSE\n",
      "54_8\tnoSE\n",
      "54_9\tnoSE\n",
      "56_1\tSE\n",
      "56_2\tnoSE\n",
      "56_3\tnoSE\n",
      "56_4\tnoSE\n",
      "56_5\tnoSE\n",
      "56_6\tSE\n",
      "56_7\tSE\n",
      "56_8\tnoSE\n",
      "58_1\tSE\n",
      "58_2\tnoSE\n",
      "58_3\tSE\n",
      "58_4\tnoSE\n",
      "58_5\tnoSE\n",
      "58_6\tSE\n",
      "58_7\tSE\n",
      "58_8\tnoSE\n",
      "59_1\tSE\n",
      "59_2\tnoSE\n",
      "59_3\tnoSE\n",
      "59_4\tnoSE\n",
      "59_5\tSE\n",
      "59_6\tnoSE\n",
      "59_7\tSE\n",
      "59_8\tnoSE\n",
      "61_1\tSE\n",
      "61_2\tnoSE\n",
      "61_3\tnoSE\n",
      "61_4\tSE\n",
      "61_5\tSE\n",
      "61_6\tnoSE\n",
      "61_7\tSE\n",
      "61_8\tnoSE\n",
      "61_9\tnoSE\n",
      "67_1\tSE\n",
      "67_2\tSE\n",
      "67_3\tnoSE\n",
      "67_4\tSE\n",
      "67_5\tnoSE\n",
      "67_6\tnoSE\n",
      "67_7\tnoSE\n",
      "67_8\tnoSE\n",
      "67_9\tnoSE\n",
      "67_10\tSE\n",
      "67_11\tnoSE\n",
      "68_1\tSE\n",
      "68_2\tSE\n",
      "68_3\tnoSE\n",
      "68_4\tSE\n",
      "68_5\tnoSE\n",
      "68_6\tSE\n",
      "68_7\tSE\n",
      "68_8\tnoSE\n",
      "68_9\tnoSE\n",
      "68_10\tSE\n",
      "68_11\tnoSE\n",
      "69_1\tSE\n",
      "69_2\tnoSE\n",
      "69_3\tnoSE\n",
      "69_4\tnoSE\n",
      "69_5\tSE\n",
      "69_6\tnoSE\n",
      "69_7\tnoSE\n",
      "69_8\tnoSE\n",
      "69_9\tnoSE\n",
      "69_10\tnoSE\n",
      "75_1\tSE\n",
      "75_2\tnoSE\n",
      "75_3\tnoSE\n",
      "75_4\tnoSE\n",
      "75_5\tnoSE\n",
      "75_6\tnoSE\n",
      "75_7\tnoSE\n",
      "75_8\tnoSE\n",
      "75_9\tSE\n",
      "75_10\tnoSE\n",
      "77_1\tSE\n",
      "77_2\tnoSE\n",
      "77_3\tnoSE\n",
      "77_4\tSE\n",
      "77_5\tSE\n",
      "77_6\tnoSE\n",
      "77_7\tnoSE\n",
      "77_8\tSE\n",
      "77_9\tnoSE\n",
      "77_10\tSE\n",
      "78_1\tSE\n",
      "78_2\tnoSE\n",
      "78_3\tnoSE\n",
      "78_4\tnoSE\n",
      "78_5\tnoSE\n",
      "78_6\tnoSE\n",
      "78_7\tSE\n",
      "78_8\tnoSE\n",
      "78_9\tnoSE\n",
      "78_10\tnoSE\n",
      "79_1\tSE\n",
      "79_2\tSE\n",
      "79_3\tnoSE\n",
      "79_4\tSE\n",
      "79_5\tnoSE\n",
      "79_6\tnoSE\n",
      "79_7\tnoSE\n",
      "79_8\tnoSE\n",
      "79_9\tnoSE\n"
     ]
    }
   ],
   "source": [
    "for i in range(0, len(test_results_step1)):\n",
    "    label_expanded = \"noSE\"\n",
    "    conv_utt_id = test_results_step1[i][1]\n",
    "    conv_id = str(conv_utt_id).split(\"_\")[0]\n",
    "    utt_id = str(conv_utt_id).split(\"_\")[1]\n",
    "    if utt_id == \"2\":\n",
    "        print(str(conv_id)+\"_1\"+\"\\tSE\") #first utterance is always an SE\n",
    "    if test_results_step1[i][2] == 1:\n",
    "         label_expanded = \"SE\"      \n",
    "    print(str(conv_utt_id)+\"\\t\"+label_expanded)"
   ]
  },
  {
   "cell_type": "code",
   "execution_count": null,
   "metadata": {},
   "outputs": [],
   "source": []
  }
 ],
 "metadata": {
  "kernelspec": {
   "display_name": "Python 3",
   "language": "python",
   "name": "python3"
  },
  "language_info": {
   "codemirror_mode": {
    "name": "ipython",
    "version": 3
   },
   "file_extension": ".py",
   "mimetype": "text/x-python",
   "name": "python",
   "nbconvert_exporter": "python",
   "pygments_lexer": "ipython3",
   "version": "3.7.4"
  }
 },
 "nbformat": 4,
 "nbformat_minor": 2
}
