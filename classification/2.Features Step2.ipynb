{
 "cells": [
  {
   "cell_type": "code",
   "execution_count": null,
   "metadata": {},
   "outputs": [],
   "source": [
    "%load_ext autoreload\n",
    "%autoreload 2\n",
    "\n",
    "from time import time\n",
    "import pandas as pd\n",
    "import numpy as np\n",
    "import os\n",
    "import pickle"
   ]
  },
  {
   "cell_type": "markdown",
   "metadata": {},
   "source": [
    "# Load data from Step 1"
   ]
  },
  {
   "cell_type": "code",
   "execution_count": null,
   "metadata": {},
   "outputs": [],
   "source": [
    "train_df = pd.read_pickle(\"../data/datasets/train_df.pkl\")\n",
    "test_df = pd.read_pickle(\"../data/datasets/test_df.pkl\")"
   ]
  },
  {
   "cell_type": "code",
   "execution_count": null,
   "metadata": {},
   "outputs": [],
   "source": [
    "train_features = pd.read_pickle(\"../data/gbdt_features/train_features_step1.pkl\")\n",
    "test_features= pd.read_pickle(\"../data/gbdt_features/test_features_step1.pkl\")"
   ]
  },
  {
   "cell_type": "code",
   "execution_count": null,
   "metadata": {},
   "outputs": [],
   "source": [
    "print(train_df.shape)\n",
    "print(test_df.shape)\n",
    "print(train_features.shape)\n",
    "print(test_features.shape)"
   ]
  },
  {
   "cell_type": "markdown",
   "metadata": {},
   "source": [
    "# Generate UTT features - STEP 2"
   ]
  },
  {
   "cell_type": "code",
   "execution_count": null,
   "metadata": {},
   "outputs": [],
   "source": [
    "import sys\n",
    "sys.path.append(\"..\")\n",
    "from conversationalir.uttclassification.conversation_features import utterance_cosine_similarity_first, utterance_cosine_similarity_previous, is_next_sentence_to_first_neural, is_next_sentence_to_previous_neural, compute_dist_last_SE_train, compute_is_next_of_SE_train, compute_is_next_of_SE_test, compute_dist_last_SE_test, noun_chunks_cosine_similarity_first, noun_chunks_cosine_similarity_previous "
   ]
  },
  {
   "cell_type": "code",
   "execution_count": null,
   "metadata": {},
   "outputs": [],
   "source": [
    "def uttFeatures2(df, feature_df):\n",
    "    \n",
    "    feature_df[\"turn\"] = feature_df[0].str.split(\"_\").str[1].astype(int)    \n",
    "    \n",
    "    cosine_first = utterance_cosine_similarity_first(df)\n",
    "    feature_df[\"cosine_first\"] = feature_df[0].map(cosine_first)\n",
    "    \n",
    "    cosine_prev = utterance_cosine_similarity_previous(df)\n",
    "    feature_df[\"cosine_prev\"] = feature_df[0].map(cosine_prev)\n",
    "    \n",
    "    is_next_first = is_next_sentence_to_first_neural(df)\n",
    "    feature_df[\"is_next_first\"] = feature_df[0].map(is_next_first)\n",
    "    \n",
    "    is_next_prev = is_next_sentence_to_previous_neural(df)\n",
    "    feature_df[\"is_next_prev\"] = feature_df[0].map(is_next_prev)\n",
    "\n",
    "    return feature_df"
   ]
  },
  {
   "cell_type": "code",
   "execution_count": null,
   "metadata": {},
   "outputs": [],
   "source": [
    "train_features = uttFeatures2(train_df, train_features)"
   ]
  },
  {
   "cell_type": "code",
   "execution_count": null,
   "metadata": {},
   "outputs": [],
   "source": [
    "test_features = uttFeatures2(test_df, test_features)"
   ]
  },
  {
   "cell_type": "code",
   "execution_count": null,
   "metadata": {},
   "outputs": [],
   "source": [
    "def uttFeatures4(df, feature_df):\n",
    "    \n",
    "    nc_cosine_first = noun_chunks_cosine_similarity_first(df, feature_df)\n",
    "    feature_df[\"nc_cosine_first\"] = feature_df[0].map(nc_cosine_first)\n",
    "\n",
    "    nc_cosine_prev = noun_chunks_cosine_similarity_previous(df, feature_df)\n",
    "    feature_df[\"nc_cosine_prev\"] = feature_df[0].map(nc_cosine_prev)\n",
    "    \n",
    "    return feature_df"
   ]
  },
  {
   "cell_type": "code",
   "execution_count": null,
   "metadata": {},
   "outputs": [],
   "source": [
    "train_features = uttFeatures4(train_df, train_features)"
   ]
  },
  {
   "cell_type": "code",
   "execution_count": null,
   "metadata": {},
   "outputs": [],
   "source": [
    "test_features = uttFeatures4(test_df, test_features)"
   ]
  },
  {
   "cell_type": "code",
   "execution_count": null,
   "metadata": {},
   "outputs": [],
   "source": [
    "def uttFeatures3_train(train_df, feature_df):\n",
    "    \n",
    "    is_next_of_SE = compute_is_next_of_SE_train(train_df)\n",
    "    feature_df[\"is_next_of_SE\"] = feature_df[0].map(is_next_of_SE)\n",
    "    \n",
    "    dist_last_SE = compute_dist_last_SE_train(train_df)\n",
    "    feature_df[\"dist_last_SE\"] = feature_df[0].map(dist_last_SE)\n",
    "    \n",
    "    return feature_df"
   ]
  },
  {
   "cell_type": "code",
   "execution_count": null,
   "metadata": {},
   "outputs": [],
   "source": [
    "train_features = uttFeatures3_train(train_df, train_features)"
   ]
  },
  {
   "cell_type": "code",
   "execution_count": null,
   "metadata": {},
   "outputs": [],
   "source": [
    "# We skip the ones dependent on step 1, and run this IN ISOLATION\n",
    "test_features = uttFeatures3_train(test_df, test_features)"
   ]
  },
  {
   "cell_type": "code",
   "execution_count": null,
   "metadata": {},
   "outputs": [],
   "source": [
    "print(train_features.shape)\n",
    "print(test_features.shape)"
   ]
  },
  {
   "cell_type": "code",
   "execution_count": null,
   "metadata": {},
   "outputs": [],
   "source": [
    "print_files = False\n",
    "if print_files:\n",
    "    train_features.to_pickle(\"../data/gbdt_features/train_features_step2_all_feat_isolation.pkl\")\n",
    "    test_features.to_pickle(\"../data/gbdt_features/test_features_step2_all_feat_isolation.pkl\")"
   ]
  },
  {
   "cell_type": "markdown",
   "metadata": {},
   "source": [
    "## Remove step1 features (only use conversation features for step2)"
   ]
  },
  {
   "cell_type": "code",
   "execution_count": null,
   "metadata": {},
   "outputs": [],
   "source": [
    "train_feat_only_conv = train_features.drop(train_features.iloc[:, 2:55], axis=1)\n",
    "test_feat_only_conv = test_features.drop(train_features.iloc[:, 2:55], axis=1)"
   ]
  },
  {
   "cell_type": "code",
   "execution_count": null,
   "metadata": {},
   "outputs": [],
   "source": [
    "print(train_feat_only_conv.shape)\n",
    "print(test_feat_only_conv.shape)"
   ]
  },
  {
   "cell_type": "code",
   "execution_count": null,
   "metadata": {},
   "outputs": [],
   "source": [
    "print_files = False\n",
    "if print_files:\n",
    "    train_feat_only_conv.to_pickle(\"../data/gbdt_features/train_features_step2_conv_feat_isolation.pkl\")\n",
    "    test_feat_only_conv.to_pickle(\"../data/gbdt_features/test_features_step2_conv_feat_isolation.pkl\")"
   ]
  },
  {
   "cell_type": "markdown",
   "metadata": {},
   "source": [
    "# Features that depend on step 1 - only for TEST"
   ]
  },
  {
   "cell_type": "code",
   "execution_count": null,
   "metadata": {},
   "outputs": [],
   "source": [
    "def uttFeatures3_test(df, feature_df, y_pred):\n",
    "    \"\"\"\n",
    "    The function is made for the TEST set since we assume from Step1 we only get 174 judgements\n",
    "    \n",
    "    \"\"\"\n",
    "    is_next_of_SE = compute_is_next_of_SE_test(test_df, y_pred)\n",
    "    feature_df[\"is_next_of_SE\"] = feature_df[0].map(is_next_of_SE)\n",
    "    \n",
    "    dist_last_SE = compute_dist_last_SE_test(test_df, y_pred)\n",
    "    feature_df[\"dist_last_SE\"] = feature_df[0].map(dist_last_SE)\n",
    "    \n",
    "    return feature_df"
   ]
  },
  {
   "cell_type": "markdown",
   "metadata": {},
   "source": [
    "## when Step 1 is lightGBM"
   ]
  },
  {
   "cell_type": "code",
   "execution_count": null,
   "metadata": {},
   "outputs": [],
   "source": [
    "test_features= pd.read_pickle(\"../data/gbdt_features/test_features_step2_all_feat_isolation.pkl\")"
   ]
  },
  {
   "cell_type": "code",
   "execution_count": null,
   "metadata": {},
   "outputs": [],
   "source": [
    "y_pred_S1_lightGBM = np.load(\"../data/gbdt_models/step_1_y_pred_lightGBM.npy\")"
   ]
  },
  {
   "cell_type": "code",
   "execution_count": null,
   "metadata": {},
   "outputs": [],
   "source": [
    "test_features_cascade_LightGBM = uttFeatures3_test(test_df, test_features, y_pred_S1_lightGBM)"
   ]
  },
  {
   "cell_type": "code",
   "execution_count": null,
   "metadata": {},
   "outputs": [],
   "source": [
    "test_features_cascade_LightGBM.to_pickle(\"../data/gbdt_features/test_features_step2_all_feat_cascade_lightGBM.pkl\")"
   ]
  }
 ],
 "metadata": {
  "kernelspec": {
   "display_name": "Python 3",
   "language": "python",
   "name": "python3"
  },
  "language_info": {
   "codemirror_mode": {
    "name": "ipython",
    "version": 3
   },
   "file_extension": ".py",
   "mimetype": "text/x-python",
   "name": "python",
   "nbconvert_exporter": "python",
   "pygments_lexer": "ipython3",
   "version": "3.7.4"
  }
 },
 "nbformat": 4,
 "nbformat_minor": 2
}
