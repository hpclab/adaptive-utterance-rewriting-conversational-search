{
 "cells": [
  {
   "cell_type": "code",
   "execution_count": 2,
   "source": [
    "%load_ext autoreload\n",
    "%autoreload 2\n",
    "\n",
    "from time import time\n",
    "import pandas as pd\n",
    "import numpy as np\n",
    "import os\n",
    "\n",
    "from reranking import data_prep"
   ],
   "outputs": [],
   "metadata": {
    "Collapsed": "false"
   }
  },
  {
   "cell_type": "markdown",
   "source": [
    "# Step 1 : Prep input for tfrecord with expansions (optional)\n",
    "\n",
    "This step is optional in case the query at Retrieval is the same for Reranking"
   ],
   "metadata": {
    "Collapsed": "false"
   }
  },
  {
   "cell_type": "code",
   "execution_count": null,
   "source": [
    "def prep_input_dl4marco_bert(queryFile, retrievedFile, outputFile):\n",
    "    \"\"\"\n",
    "    Takes the query file with the chosen expansion and replaces the query from Step 1 with the expansion.\n",
    "\n",
    "    Input:\n",
    "    - queryFile : [qid, query] (either query, utterance or expansion)\n",
    "    - retrievedFile: [qID, passageID, queryStep1, passage]\n",
    "\n",
    "    Output: [query_id   passage_id  expanded_query   passage]\n",
    "    \"\"\"\n",
    "    queryDF = pd.read_csv(queryFile, delimiter=\"\\t\", header=None)\n",
    "    assert len(queryDF.columns) == 2\n",
    "    queryDict = dict(zip(queryDF[0], queryDF[1]))\n",
    "\n",
    "    dataframe = pd.read_csv(retrievedFile, delimiter=\"\\t\", header=0)\n",
    "    assert len(dataframe.columns) == 4\n",
    "\n",
    "    # new column\n",
    "    dataframe[\"expanded_query\"] = dataframe['query_id'].map(queryDict)\n",
    "\n",
    "    columnsTitles = [\"query_id\", \"passage_id\", \"expanded_query\", \"passage\"]\n",
    "\n",
    "    dataframe = dataframe.reindex(columns=columnsTitles)\n",
    "\n",
    "    dataframe.to_csv(outputFile, sep='\\t', index=False, header=False)"
   ],
   "outputs": [],
   "metadata": {}
  },
  {
   "cell_type": "markdown",
   "source": [
    "### E.g. BERT-BERTContext"
   ],
   "metadata": {
    "Collapsed": "false"
   }
  },
  {
   "cell_type": "code",
   "execution_count": 2,
   "source": [
    "def prepInputBERT(i):\n",
    "\n",
    "    query_path = \"../data/rewritten-utterances-classif/\"\n",
    "    queryFile = query_path + \"classif_results_strategy\"+str(i)+\"_S1_BERT_S2_BERT_Context.tsv\"\n",
    "\n",
    "    path = \"../data/reranking_BERT_input/\"\n",
    "    basename_file = \"S1_BERT_S2_BERT_Context_strategy\"+str(i)+\"_default_NOSW_PRF20\"\n",
    "\n",
    "    retrievedFile = path+basename_file + \"_withQueryDocs.txt\"\n",
    "    outputFile = path+basename_file+\"_bert4msmarco.txt\"\n",
    "    prep_input_dl4marco_bert(queryFile, retrievedFile, outputFile)"
   ],
   "outputs": [],
   "metadata": {}
  },
  {
   "cell_type": "code",
   "execution_count": null,
   "source": [
    "# 5 strategies\n",
    "for i in [1,2,3,4,5]:\n",
    "    prepInputBERT(i)"
   ],
   "outputs": [],
   "metadata": {}
  },
  {
   "cell_type": "markdown",
   "source": [
    "### E.g. Ground Truth"
   ],
   "metadata": {}
  },
  {
   "cell_type": "code",
   "execution_count": 17,
   "source": [
    "def prepInputBERT_GT(i):\n",
    "\n",
    "    query_path = \"../data/rewritten-utterances-classif/\"\n",
    "    queryFile = query_path + \"classif_results_GT_strategy\"+str(i)+\".tsv\"\n",
    "\n",
    "    path = \"../data/reranking_BERT_input/\"\n",
    "    basename_file = \"GT_strategy\"+str(i)+\"_default_NOSW_PRF20\"\n",
    "\n",
    "    retrievedFile = path+basename_file + \"_withQueryDocs.txt\"\n",
    "    outputFile = path+basename_file+\"_bert4msmarco.txt\"\n",
    "    prep_input_dl4marco_bert(queryFile, retrievedFile, outputFile)"
   ],
   "outputs": [],
   "metadata": {}
  },
  {
   "cell_type": "code",
   "execution_count": null,
   "source": [
    "# 5 strategies Ground Truth\n",
    "for i in [1,2,3,4,5]:\n",
    "    prepInputBERT_GT(i)"
   ],
   "outputs": [],
   "metadata": {}
  },
  {
   "cell_type": "markdown",
   "source": [
    "Switch tp repo: **dl4marco-bert**\n",
    "\n",
    "# Step 2: Convert input to TFrecord\n",
    "\n",
    "```\n",
    "bash convert_CAST_to_tfrecord_onefile.sh\n",
    "```\n",
    "\n",
    "# Step 3: Run model in inference\n",
    "\n",
    "```\n",
    "bash test_CAST.sh\n",
    "```\n",
    "\n",
    "# Step 4: Evaluate\n",
    "\n",
    "    using **trec_eval**"
   ],
   "metadata": {}
  },
  {
   "cell_type": "code",
   "execution_count": null,
   "source": [],
   "outputs": [],
   "metadata": {}
  }
 ],
 "metadata": {
  "kernelspec": {
   "display_name": "Python 3",
   "language": "python",
   "name": "python3"
  },
  "language_info": {
   "codemirror_mode": {
    "name": "ipython",
    "version": 3
   },
   "file_extension": ".py",
   "mimetype": "text/x-python",
   "name": "python",
   "nbconvert_exporter": "python",
   "pygments_lexer": "ipython3",
   "version": "3.7.4"
  }
 },
 "nbformat": 4,
 "nbformat_minor": 4
}